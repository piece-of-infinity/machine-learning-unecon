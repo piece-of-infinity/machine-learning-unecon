{
 "cells": [
  {
   "cell_type": "markdown",
   "metadata": {},
   "source": [
    "### Задание"
   ]
  },
  {
   "cell_type": "markdown",
   "metadata": {},
   "source": [
    "Для сокращенных данных (train_cut_X и test_cut_X) реализовать метод отбора важности признаков по Шепли."
   ]
  },
  {
   "cell_type": "code",
   "execution_count": 1,
   "metadata": {},
   "outputs": [],
   "source": [
    "import pandas as pd\n",
    "import numpy as np\n",
    "import matplotlib.pyplot as plt\n",
    "import seaborn as sns\n",
    "\n",
    "from sklearn.model_selection import train_test_split\n",
    "from sklearn.linear_model import LinearRegression\n",
    "from sklearn.metrics import mean_squared_error\n",
    "from sklearn.model_selection import cross_validate\n",
    "from math import factorial\n",
    "import random"
   ]
  },
  {
   "cell_type": "code",
   "execution_count": 2,
   "metadata": {},
   "outputs": [],
   "source": [
    "df = pd.read_csv(\"https://raw.githubusercontent.com/katarina74/ml_lessons/main/lesson_2/data/techparams_train.csv\")\n",
    "X = df.drop([\"target\", \"index\"], axis=1)\n",
    "y = df[[\"target\"]]"
   ]
  },
  {
   "cell_type": "code",
   "execution_count": 3,
   "metadata": {},
   "outputs": [],
   "source": [
    "train_X, test_X, train_y, test_y = train_test_split(X, y, test_size=0.33, random_state=42)"
   ]
  },
  {
   "cell_type": "code",
   "execution_count": 4,
   "metadata": {},
   "outputs": [],
   "source": [
    "train_cut_X = train_X[train_X.columns[:5]]\n",
    "test_cut_X = test_X[train_X.columns[:5]]"
   ]
  },
  {
   "cell_type": "code",
   "execution_count": 5,
   "metadata": {},
   "outputs": [
    {
     "name": "stdout",
     "output_type": "stream",
     "text": [
      "Вклад признаков:\n",
      "compression: значение Шепли = 1.0610771520684163e-13\n",
      "back-suspension: значение Шепли = -4.5474735088646414e-14\n",
      "charge-time: значение Шепли = -1.2126596023639046e-13\n",
      "battery-capacity: значение Шепли = -1.5916157281026246e-13\n",
      "consumption-mixed: значение Шепли = -2.349527979580065e-13\n"
     ]
    }
   ],
   "source": [
    "def powerset(n):\n",
    "    subsets = []\n",
    "    for i in range(1 << n):\n",
    "        subset = [j for j in range(n) if (i & (1 << j))]\n",
    "        subsets.append(subset)\n",
    "    return subsets\n",
    "\n",
    "def shapley_values(X, y):\n",
    "    if hasattr(X, \"columns\"):\n",
    "        feature_names = X.columns.to_list() \n",
    "        X = X.to_numpy()\n",
    "    else:\n",
    "        feature_names = [f\"Feature {i}\" for i in range(X.shape[1])]\n",
    "    \n",
    "    if hasattr(y, \"to_numpy\"):\n",
    "        y = y.to_numpy()\n",
    "    \n",
    "    n_features = X.shape[1]\n",
    "    phi = np.zeros(n_features)\n",
    "    subsets = powerset(n_features)\n",
    "\n",
    "    for i in range(n_features):\n",
    "        shapley_sum = 0\n",
    "\n",
    "        for S in subsets:\n",
    "            if i in S:\n",
    "                continue  \n",
    "\n",
    "            S_set = set(S)\n",
    "            S_size = len(S_set)\n",
    "            coeff = factorial(S_size) * factorial(n_features - S_size - 1) / factorial(n_features)\n",
    "\n",
    "            X_S = X[:, S] if S else np.ones((X.shape[0], 1))  \n",
    "            X_Si = X[:, list(S_set | {i})]  \n",
    "\n",
    "            model_s = LinearRegression().fit(X_S, y)\n",
    "            f_s = model_s.predict(X_S).mean()\n",
    "\n",
    "            model_si = LinearRegression().fit(X_Si, y)\n",
    "            f_si = model_si.predict(X_Si).mean()\n",
    "\n",
    "            shapley_sum += coeff * (f_si - f_s)\n",
    "\n",
    "        phi[i] = shapley_sum\n",
    "    \n",
    "    sorted_indices = np.argsort(phi)[::-1]\n",
    "    \n",
    "    print(\"Вклад признаков:\")\n",
    "    for idx in sorted_indices:\n",
    "        print(f\"{feature_names[idx]}: значение Шепли = {phi[idx]}\")\n",
    "\n",
    "shapley_values(train_cut_X, train_y)"
   ]
  },
  {
   "cell_type": "markdown",
   "metadata": {},
   "source": [
    "Самостоятельно реализовать алгоритм отбора признаков на основе пермутационной важности. Построить гистограмму полученных значений."
   ]
  },
  {
   "cell_type": "code",
   "execution_count": 6,
   "metadata": {},
   "outputs": [
    {
     "name": "stdout",
     "output_type": "stream",
     "text": [
      "Признак back-suspension: 1814.4385\n",
      "Признак consumption-mixed: 1070.8503\n",
      "Признак charge-time: 637.7408\n",
      "Признак battery-capacity: 114.3536\n",
      "Признак compression: 0.2553\n"
     ]
    }
   ],
   "source": [
    "model = LinearRegression()\n",
    "model.fit(train_cut_X, train_y)\n",
    "\n",
    "y_pred_initial = model.predict(test_cut_X)\n",
    "initial_mse = mean_squared_error(test_y, y_pred_initial)\n",
    "\n",
    "def permutation_importance(model, X, y, metric=mean_squared_error, n_repeats=10):\n",
    "    importances = []\n",
    "    \n",
    "    for col in X.columns:\n",
    "        score_list = []\n",
    "        \n",
    "        #повторим процесс несколько раз для устойчивости\n",
    "        for _ in range(n_repeats):\n",
    "            X_permuted = X.copy() #именно copy, при присваивании мы просто копируем ссылку на объект\n",
    "            permuted_values = X[col].values.tolist()\n",
    "            random.shuffle(permuted_values) #перемешаем через shuffle\n",
    "            X_permuted[col] = permuted_values\n",
    "            \n",
    "            y_pred_permuted = model.predict(X_permuted)\n",
    "            score = metric(y, y_pred_permuted)\n",
    "            score_list.append(score)\n",
    "        \n",
    "        importances.append(np.median(score_list) - initial_mse) #используем медиану, так как она более устойчивая к выбросам\n",
    "    \n",
    "    return importances\n",
    "\n",
    "importance_scores = np.array(permutation_importance(model, test_cut_X, test_y))\n",
    "sorted_importance = sorted(zip(test_cut_X.columns, importance_scores), key=lambda x: x[1], reverse=True)\n",
    "\n",
    "for col, score in sorted_importance:\n",
    "    print(f\"Признак {col}: {score:.4f}\")"
   ]
  },
  {
   "cell_type": "code",
   "execution_count": 7,
   "metadata": {},
   "outputs": [
    {
     "data": {
      "image/png": "[encoded data removed]",
      "text/plain": [
       "<Figure size 1000x600 with 1 Axes>"
      ]
     },
     "metadata": {},
     "output_type": "display_data"
    }
   ],
   "source": [
    "plt.figure(figsize=(10, 6))\n",
    "sns.barplot(x=test_cut_X.columns, y=importance_scores)\n",
    "plt.xlabel('Признак')\n",
    "plt.ylabel('Важность')\n",
    "plt.title('Пермутационная важность признаков')\n",
    "plt.show()"
   ]
  },
  {
   "cell_type": "code",
   "execution_count": null,
   "metadata": {},
   "outputs": [],
   "source": []
  }
 ],
 "metadata": {
  "kernelspec": {
   "display_name": "base",
   "language": "python",
   "name": "python3"
  },
  "language_info": {
   "codemirror_mode": {
    "name": "ipython",
    "version": 3
   },
   "file_extension": ".py",
   "mimetype": "text/x-python",
   "name": "python",
   "nbconvert_exporter": "python",
   "pygments_lexer": "ipython3",
   "version": "3.10.9"
  }
 },
 "nbformat": 4,
 "nbformat_minor": 2
}
